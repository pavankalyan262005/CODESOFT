{
  "cells": [
    {
      "cell_type": "markdown",
      "metadata": {
        "id": "view-in-github",
        "colab_type": "text"
      },
      "source": [
        "<a href=\"https://colab.research.google.com/github/pavankalyan262005/CODESOFT/blob/main/CODESOFT_task4.ipynb\" target=\"_parent\"><img src=\"https://colab.research.google.com/assets/colab-badge.svg\" alt=\"Open In Colab\"/></a>"
      ]
    },
    {
      "cell_type": "code",
      "execution_count": null,
      "metadata": {
        "colab": {
          "background_save": true,
          "base_uri": "https://localhost:8080/"
        },
        "id": "3341FFd2s9J7",
        "outputId": "841c8147-14dd-4b2e-8543-7607044d2ca2"
      },
      "outputs": [
        {
          "name": "stdout",
          "output_type": "stream",
          "text": [
            "Welcome to Rock-Paper-Scissors!\n"
          ]
        }
      ],
      "source": [
        "#fun game of rock-paper-scissors\n",
        "import random\n",
        "def get_computer_choice():\n",
        "    choices = ['rock', 'paper', 'scissors']\n",
        "    return random.choice(choices)\n",
        "def get_player_choice():\n",
        "    player_choice = int(input(\"Enter your choice: type 0 for rock,1 for paper, 2 for scissors: \"))\n",
        "    while player_choice not in [0, 1, 2]:\n",
        "        print(\"Invalid choice! Please try again.\")\n",
        "        player_choice = int(input(\"Enter your choice: type 0 for rock,1 for paper, 2 for scissors: \"))\n",
        "    return player_choice\n",
        "def determine_winner(player_choice, computer_choice):\n",
        "    choices = ['rock', 'paper', 'scissors']\n",
        "    if choices[player_choice] == computer_choice:\n",
        "        return \"It's a tie!\"\n",
        "    elif (player_choice == 0 and computer_choice == 'scissors') or \\\n",
        "         (player_choice == 1 and computer_choice == 'rock') or \\\n",
        "         (player_choice == 2 and computer_choice == 'paper'):\n",
        "        return \"You win!\"\n",
        "    else:\n",
        "        return \"You lose!\"\n",
        "def play_game():\n",
        "    print(\"Welcome to Rock-Paper-Scissors!\")\n",
        "    while True:\n",
        "        player_choice = get_player_choice()\n",
        "        computer_choice = get_computer_choice()\n",
        "        choices = ['rock', 'paper', 'scissors']\n",
        "        print(f\"You chose: {choices[player_choice]}\")\n",
        "        print(f\"Computer chose: {computer_choice}\")\n",
        "        result = determine_winner(player_choice, computer_choice)\n",
        "        print(result)\n",
        "        play_again = input(\"Do you want to play again? (yes/no): \")\n",
        "        if play_again != 'yes':\n",
        "            print(\"Thanks for playing!\")\n",
        "            break\n",
        "if __name__ == \"__main__\":\n",
        "    play_game()"
      ]
    }
  ],
  "metadata": {
    "colab": {
      "provenance": [],
      "authorship_tag": "ABX9TyNG7xLAjDVpdbvLAkapeu1c",
      "include_colab_link": true
    },
    "kernelspec": {
      "display_name": "Python 3",
      "name": "python3"
    },
    "language_info": {
      "name": "python"
    }
  },
  "nbformat": 4,
  "nbformat_minor": 0
}