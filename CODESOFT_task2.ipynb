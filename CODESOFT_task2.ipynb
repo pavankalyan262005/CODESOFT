{
  "cells": [
    {
      "cell_type": "markdown",
      "metadata": {
        "id": "view-in-github",
        "colab_type": "text"
      },
      "source": [
        "<a href=\"https://colab.research.google.com/github/pavankalyan262005/CODESOFT/blob/main/CODESOFT_task2.ipynb\" target=\"_parent\"><img src=\"https://colab.research.google.com/assets/colab-badge.svg\" alt=\"Open In Colab\"/></a>"
      ]
    },
    {
      "cell_type": "code",
      "source": [
        "#\"Welcome to the calculator\"\n",
        "while True:\n",
        "    print(\"\\n1. ADDITION\")\n",
        "    print(\"2. SUBTRACTION\")\n",
        "    print(\"3. MULTIPLICATION\")\n",
        "    print(\"4. DIVISION\")\n",
        "    print(\"5. EXIT\")\n",
        "    option = int(input(\"Enter the option: \"))\n",
        "    if option in [1, 2, 3, 4]:\n",
        "        num1 = int(input(\"Enter the first value: \"))\n",
        "        num2 = int(input(\"Enter the second value: \"))\n",
        "        if option == 1:\n",
        "            result = num1 + num2\n",
        "        elif option == 2:\n",
        "            result = num1 - num2\n",
        "        elif option == 3:\n",
        "            result = num1 * num2\n",
        "        elif option == 4:\n",
        "            if num2 != 0:\n",
        "                result = num1 / num2\n",
        "            else:\n",
        "                result = \"Error: Division by zero\"\n",
        "        print(f\"The result is: {result}\")\n",
        "    elif option == 5:\n",
        "        print(\"thank you\")\n",
        "        break\n",
        "    else:\n",
        "        print(\"Invalid choice\")"
      ],
      "metadata": {
        "id": "ZhPAxPgtgO02",
        "outputId": "465fb621-1115-4f1e-f36f-85b9704c4732",
        "colab": {
          "base_uri": "https://localhost:8080/"
        }
      },
      "execution_count": null,
      "outputs": [
        {
          "output_type": "stream",
          "name": "stdout",
          "text": [
            "\n",
            "1. ADDITION\n",
            "2. SUBTRACTION\n",
            "3. MULTIPLICATION\n",
            "4. DIVISION\n",
            "5. EXIT\n",
            "Enter the option: 2\n",
            "Enter the first value: 15000\n",
            "Enter the second value: 2265641\n",
            "The result is: -2250641\n",
            "\n",
            "1. ADDITION\n",
            "2. SUBTRACTION\n",
            "3. MULTIPLICATION\n",
            "4. DIVISION\n",
            "5. EXIT\n",
            "Enter the option: 4\n",
            "Enter the first value: 11\n",
            "Enter the second value: 0\n",
            "The result is: Error: Division by zero\n",
            "\n",
            "1. ADDITION\n",
            "2. SUBTRACTION\n",
            "3. MULTIPLICATION\n",
            "4. DIVISION\n",
            "5. EXIT\n",
            "Enter the option: 4\n",
            "Enter the first value: 0\n",
            "Enter the second value: 4\n",
            "The result is: 0.0\n",
            "\n",
            "1. ADDITION\n",
            "2. SUBTRACTION\n",
            "3. MULTIPLICATION\n",
            "4. DIVISION\n",
            "5. EXIT\n"
          ]
        }
      ]
    }
  ],
  "metadata": {
    "colab": {
      "provenance": [],
      "authorship_tag": "ABX9TyPiOPHfkPzDGs2VEa2T2xvf",
      "include_colab_link": true
    },
    "kernelspec": {
      "display_name": "Python 3",
      "name": "python3"
    },
    "language_info": {
      "name": "python"
    }
  },
  "nbformat": 4,
  "nbformat_minor": 0
}