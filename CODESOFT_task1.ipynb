{
  "cells": [
    {
      "cell_type": "markdown",
      "metadata": {
        "id": "view-in-github",
        "colab_type": "text"
      },
      "source": [
        "<a href=\"https://colab.research.google.com/github/pavankalyan262005/CODESOFT/blob/main/CODESOFT_task1.ipynb\" target=\"_parent\"><img src=\"https://colab.research.google.com/assets/colab-badge.svg\" alt=\"Open In Colab\"/></a>"
      ]
    },
    {
      "cell_type": "code",
      "execution_count": null,
      "metadata": {
        "colab": {
          "background_save": true,
          "base_uri": "https://localhost:8080/"
        },
        "id": "oZ5skMb_Jt6W",
        "outputId": "19ba26ea-f3b6-4458-c136-b6ee16477243"
      },
      "outputs": [
        {
          "name": "stdout",
          "output_type": "stream",
          "text": [
            "\n",
            "--- To-Do List Menu ---\n",
            "1. Add Task\n",
            "2. Show Tasks\n",
            "3. Delete Task\n",
            "4. Exit\n"
          ]
        }
      ],
      "source": [
        "def todo_list():\n",
        "    tasks = []\n",
        "    def display_menu():\n",
        "        print(\"\\n--- To-Do List Menu ---\")\n",
        "        print(\"1. Add Task\")\n",
        "        print(\"2. Show Tasks\")\n",
        "        print(\"3. Delete Task\")\n",
        "        print(\"4. Exit\")\n",
        "    while True:\n",
        "        display_menu()\n",
        "        choice = input(\"Enter your choice: \")\n",
        "        if choice == '1':\n",
        "            try:\n",
        "                n_tasks = int(input(\"How many tasks do you want to add: \"))\n",
        "                for i in range(n_tasks):\n",
        "                    task = input(\"Enter the task: \")\n",
        "                    tasks.append({\"task\": task, \"done\": False})\n",
        "                    print(f\"Task '{task}' added!\")\n",
        "            except ValueError:\n",
        "                print(\"Please enter a valid number.\")\n",
        "        elif choice == '2':\n",
        "            print(\"\\n--- Tasks List ---\")\n",
        "            if not tasks:\n",
        "                print(\"No tasks available.\")\n",
        "            else:\n",
        "                for index, task in enumerate(tasks):\n",
        "                    print(f\"{index + 1}. {task['task']}\")\n",
        "        elif choice == '3':\n",
        "            if not tasks:\n",
        "                print(\"No tasks to delete.\")\n",
        "            else:\n",
        "                try:\n",
        "                    task_index = int(input(\"Enter the task number to delete: \")) - 1\n",
        "                    if 0 <= task_index < len(tasks):\n",
        "                        removed_task = tasks.pop(task_index)\n",
        "                        print(f\"Task '{removed_task['task']}' deleted!\")\n",
        "                    else:\n",
        "                        print(\"Invalid task number.\")\n",
        "                except ValueError:\n",
        "                    print(\"Please enter a valid number.\")\n",
        "        elif choice == '4':\n",
        "            print(\"Exiting the To-Do List.\")\n",
        "            break\n",
        "        else:\n",
        "            print(\"Invalid choice. Please try again.\")\n",
        "if __name__ == \"__main__\":\n",
        "    todo_list()"
      ]
    }
  ],
  "metadata": {
    "colab": {
      "provenance": [],
      "authorship_tag": "ABX9TyNJdG1FAUzTrYkodKEyF62V",
      "include_colab_link": true
    },
    "kernelspec": {
      "display_name": "Python 3",
      "name": "python3"
    },
    "language_info": {
      "name": "python"
    }
  },
  "nbformat": 4,
  "nbformat_minor": 0
}